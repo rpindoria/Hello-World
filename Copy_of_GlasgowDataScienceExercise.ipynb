{
  "nbformat": 4,
  "nbformat_minor": 0,
  "metadata": {
    "colab": {
      "name": "Copy of GlasgowDataScienceExercise.ipynb",
      "provenance": [],
      "toc_visible": true,
      "authorship_tag": "ABX9TyORzA4r1hKItAdDcvRFeDtR",
      "include_colab_link": true
    },
    "kernelspec": {
      "name": "python3",
      "display_name": "Python 3"
    }
  },
  "cells": [
    {
      "cell_type": "markdown",
      "metadata": {
        "id": "view-in-github",
        "colab_type": "text"
      },
      "source": [
        "<a href=\"https://colab.research.google.com/github/rpindoria/Hello-World/blob/master/Copy_of_GlasgowDataScienceExercise.ipynb\" target=\"_parent\"><img src=\"https://colab.research.google.com/assets/colab-badge.svg\" alt=\"Open In Colab\"/></a>"
      ]
    },
    {
      "cell_type": "code",
      "metadata": {
        "id": "mdnQjrEpRllq",
        "colab_type": "code",
        "colab": {}
      },
      "source": [
        "name = input(\"Your name\")\n",
        "if name==\"ravji\":\n",
        "  print (name)"
      ],
      "execution_count": 0,
      "outputs": []
    },
    {
      "cell_type": "markdown",
      "metadata": {
        "id": "bSMfswI7SO9a",
        "colab_type": "text"
      },
      "source": [
        ""
      ]
    }
  ]
}